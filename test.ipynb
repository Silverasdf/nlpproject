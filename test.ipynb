{
 "cells": [
  {
   "cell_type": "code",
   "execution_count": 5,
   "metadata": {},
   "outputs": [],
   "source": [
    "# Save the books\n",
    "\n",
    "import requests\n",
    "\n",
    "# Get a request and save it as a txt file\n",
    "\n",
    "books = {\n",
    "    \"863\": \"The Mysterious Affair at Styles\",\n",
    "    \"1155\": \"The Secret Adversary\",\n",
    "    \"58866\": \"The Murder on the Links\",\n",
    "    \"61168\": \"The Man in the Brown Suit\",\n",
    "    \"61262\": \"Poirot Investigates\",\n",
    "    \"65238\": \"The Secret of Chimneys\",\n",
    "    \"66446\": \"The Plymouth Express Affair\",\n",
    "    \"67160\": \"The Hunter's Lodge Case\",\n",
    "    \"67173\": \"The Missing Will\",\n",
    "    \"69087\": \"The Murder of Roger Ackroyd\",\n",
    "    \"70114\": \"The Big Four\",\n",
    "    \"72824\": \"The Mystery of the Blue Train\"\n",
    "}\n",
    "\n",
    "# Go through the dict\n",
    "\n",
    "for id, title in books.items():\n",
    "    res = requests.get(f'http://www.gutenberg.org/ebooks/{id}.txt.utf-8')\n",
    "    # Write to txt file\n",
    "\n",
    "    cleaned_text = res.text.encode('utf-8', errors='replace').decode('utf-8')\n",
    "    \n",
    "    filename = title.replace(\" \", \"-\") + \".txt\"\n",
    "    with open(filename, 'w', encoding='utf-8') as file:\n",
    "        # Clean res.text to have nothing that cannot be encoded in a .write() call\n",
    "        file.write(cleaned_text)"
   ]
  }
 ],
 "metadata": {
  "kernelspec": {
   "display_name": "Python 3",
   "language": "python",
   "name": "python3"
  },
  "language_info": {
   "codemirror_mode": {
    "name": "ipython",
    "version": 3
   },
   "file_extension": ".py",
   "mimetype": "text/x-python",
   "name": "python",
   "nbconvert_exporter": "python",
   "pygments_lexer": "ipython3",
   "version": "3.10.11"
  }
 },
 "nbformat": 4,
 "nbformat_minor": 2
}
